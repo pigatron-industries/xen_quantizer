{
 "cells": [
  {
   "cell_type": "markdown",
   "metadata": {},
   "source": [
    "# Chords"
   ]
  },
  {
   "cell_type": "markdown",
   "metadata": {},
   "source": [
    "# 12 Equally Divided Octave - Common Scales and Chords\n",
    "\n",
    "## Major Scale\n",
    "\n",
    "The most common 7-note scale in western music. The Major Scale has 7 modes which can be constructed by simply rotating scale. The following diagrams show the 7 modes all starting at C, although they can also start at any other note. Many of the modes have the exact same notes"
   ]
  },
  {
   "cell_type": "code",
   "execution_count": null,
   "metadata": {},
   "outputs": [],
   "source": [
    "import lib.tuning as tuning\n",
    "import lib.tuningplot as tuningplot\n",
    "%matplotlib inline\n",
    "\n",
    "tuning_12edo = tuning.createEqualDivisionTuning(\"12edo\", 12, 1, ['0 C','1 C#','2 D','3 D#','4 E','5 F','6 F#','7 G','8 G#','9 A','10 A#','11 B'])\n",
    "scale_major = tuning.Scale(\"Major\", tuning_12edo, [0, 2, 4, 5, 7, 9, 11])\n",
    "\n",
    "plot = tuningplot.TuningPolarPlot(4, 4, 2, 7)\n",
    "# plot.plotRatios([(1, 1), (3, 2), (4, 3), (5, 3), (5, 4), (6, 5)])\n",
    "plot.plotTuning(tuning_12edo)\n",
    "plot.plotScale(scale_major, 0, 2, \"C Ionian\", True)\n",
    "plot.plot()\n",
    "plot.plotTuning(tuning_12edo)\n",
    "plot.plotScale(scale_major, -2, 2, \"C Dorian\", True)\n",
    "plot.plot()\n",
    "plot.plotTuning(tuning_12edo)\n",
    "plot.plotScale(scale_major, -4, 2, \"C Phrygian\", True)\n",
    "plot.plot()\n",
    "plot.plotTuning(tuning_12edo)\n",
    "plot.plotScale(scale_major, -5, 2, \"C Lydian\", True)\n",
    "plot.plot()\n",
    "plot.plotTuning(tuning_12edo)\n",
    "plot.plotScale(scale_major, -7, 2, \"C Mixolydian\", True)\n",
    "plot.plot()\n",
    "plot.plotTuning(tuning_12edo)\n",
    "plot.plotScale(scale_major, -9, 2, \"C Aeolian\", True)\n",
    "plot.plot()\n",
    "plot.plotTuning(tuning_12edo)\n",
    "plot.plotScale(scale_major, -11, 2, \"C Locrian\", True)\n",
    "plot.plot()\n"
   ]
  },
  {
   "cell_type": "markdown",
   "metadata": {},
   "source": [
    "## Chords\n",
    "\n",
    "The most common chords and chords used in progressions can be constructed by taking the 1st, 3rd and 5th notes from the scale, and then transposing them through the notes of the scale as follows. Incidentally this is where the names of the intervals get their names. The *Fifth* is the fifth note in the major scale and also gives it's name to the ratio 3/2. The *Major Third* is when the third note in the scale forms a Major chord, the ratio is 5/4. The *Minor Third* is when the third note in the scale forms a Minor chord, with the ratio 6/5.\n",
    "\n",
    "The following diagram shows all triads (chords with 3 notes) in C Major along with the nearest whole number ratio intervals from the chords root note."
   ]
  },
  {
   "cell_type": "code",
   "execution_count": null,
   "metadata": {},
   "outputs": [],
   "source": [
    "chord_triad = tuning.Chord(scale_major, [0, 2, 4])\n",
    "\n",
    "plot = tuningplot.TuningPolarPlot(4, 4, 2, 7)\n",
    "plot.plotTuning(tuning_12edo)\n",
    "plot.plotScale(scale_major, 0, 2, \"\", True)\n",
    "plot.plotChord(chord_triad, 0, \"I: C Major\")\n",
    "plot.plotRatios([(1, 1), (3, 2), (5, 4)])\n",
    "plot.plot()\n",
    "plot.plotTuning(tuning_12edo)\n",
    "plot.plotScale(scale_major, 0, 2, \"\", True)\n",
    "plot.plotChord(chord_triad, 1, \"ii: D Minor\")\n",
    "plot.plotRatios([(1, 1), (3, 2), (6, 5)], 2/12)\n",
    "plot.plot()\n",
    "plot.plotTuning(tuning_12edo)\n",
    "plot.plotScale(scale_major, 0, 2, \"\", True)\n",
    "plot.plotChord(chord_triad, 2, \"iii: E Minor\")\n",
    "plot.plotRatios([(1, 1), (3, 2), (6, 5)], 4/12)\n",
    "plot.plot()\n",
    "plot.plotTuning(tuning_12edo)\n",
    "plot.plotScale(scale_major, 0, 2, \"\", True)\n",
    "plot.plotChord(chord_triad, 3, \"IV: F Major\")\n",
    "plot.plotRatios([(1, 1), (3, 2), (5, 4)], 5/12)\n",
    "plot.plot()\n",
    "plot.plotTuning(tuning_12edo)\n",
    "plot.plotScale(scale_major, 0, 2, \"\", True)\n",
    "plot.plotChord(chord_triad, 4, \"V: G Major\")\n",
    "plot.plotRatios([(1, 1), (3, 2), (5, 4)], 7/12)\n",
    "plot.plot()\n",
    "plot.plotTuning(tuning_12edo)\n",
    "plot.plotScale(scale_major, 0, 2, \"\", True)\n",
    "plot.plotChord(chord_triad, 5, \"vi: A Minor\")\n",
    "plot.plotRatios([(1, 1), (3, 2), (6, 5)], 9/12)\n",
    "plot.plot()\n",
    "plot.plotTuning(tuning_12edo)\n",
    "plot.plotScale(scale_major, 0, 2, \"\", True)\n",
    "plot.plotChord(chord_triad, 6, \"vii: B Diminished\")\n",
    "plot.plotRatios([(1, 1), (7, 5), (6, 5)], 11/12)\n",
    "plot.plot()\n"
   ]
  },
  {
   "cell_type": "markdown",
   "metadata": {},
   "source": [
    "## Chord Quality\n",
    "\n",
    "Chord quality is determined by the intervals that make it up. The chords from the C Major scale above come in 3 different qualities: Major, Minor and Diminished.\n",
    "\n",
    "The following diagram shows a comparison of the different chord qualities."
   ]
  },
  {
   "cell_type": "code",
   "execution_count": null,
   "metadata": {},
   "outputs": [],
   "source": [
    "scale_chromatic = tuning.Scale(\"Chromatic\", tuning_12edo, [0, 1, 2, 3, 4, 5, 6, 7, 8, 9, 10, 11])\n",
    "chord_major = tuning.Chord(scale_chromatic, [0, 4, 7])\n",
    "chord_minor = tuning.Chord(scale_chromatic, [0, 3, 7])\n",
    "chord_diminished = tuning.Chord(scale_chromatic, [0, 3, 6])\n",
    "chord_augmented = tuning.Chord(scale_chromatic, [0, 4, 8])\n",
    "\n",
    "plot = tuningplot.TuningPolarPlot(4, 4, 2, 4)\n",
    "plot.plotRatios([(1, 1), (3, 2), (4, 3), (5, 3), (5, 4), (6, 5), (7, 4), (7, 5), (8,5), (8,7)])\n",
    "plot.plotTuning(tuning_12edo)\n",
    "plot.plotChord(chord_major, 0, \"Major\")\n",
    "plot.plot()\n",
    "plot.plotTuning(tuning_12edo)\n",
    "plot.plotChord(chord_minor, 0, \"Minor\")\n",
    "plot.plot()\n",
    "plot.plotTuning(tuning_12edo)\n",
    "plot.plotChord(chord_diminished, 0, \"Diminished\")\n",
    "plot.plot()\n",
    "plot.plotTuning(tuning_12edo)\n",
    "plot.plotChord(chord_augmented, 0, \"Augmented\")\n",
    "plot.plot()"
   ]
  },
  {
   "cell_type": "markdown",
   "metadata": {},
   "source": [
    "## Other Scales"
   ]
  },
  {
   "cell_type": "markdown",
   "metadata": {},
   "source": [
    "### Melodic Minor Scale"
   ]
  },
  {
   "cell_type": "code",
   "execution_count": null,
   "metadata": {},
   "outputs": [],
   "source": [
    "scale_melodic_minor = tuning.Scale(\"Melodic Minor\", tuning_12edo, [0, 2, 4, 6, 7, 9, 10])\n",
    "\n",
    "plot = tuningplot.TuningPolarPlot(4, 3, 2, 5)\n",
    "plot.plotRatios([(1, 1), (3, 2), (4, 3), (5, 3), (5, 4), (6, 5)])\n",
    "plot.plotTuning(tuning_12edo)\n",
    "plot.plotScale(scale_melodic_minor, 0, 2, \"Acoustic\", True)\n",
    "plot.plot()\n",
    "plot.plotTuning(tuning_12edo)\n",
    "plot.plotScale(scale_melodic_minor, 2, 2, \"Lydian Augmented\", True)\n",
    "plot.plot()\n",
    "plot.plotTuning(tuning_12edo)\n",
    "plot.plotScale(scale_melodic_minor, 6, 2, \"Altered\", True)\n",
    "plot.plot()\n",
    "plot.plotTuning(tuning_12edo)\n",
    "plot.plotScale(scale_melodic_minor, 8, 2, \"Half Diminished\", True)\n",
    "plot.plot()\n",
    "plot.plotTuning(tuning_12edo)\n",
    "plot.plotScale(scale_melodic_minor, 5, 2, \"Melodic Minor\", True)\n",
    "plot.plot()"
   ]
  },
  {
   "cell_type": "markdown",
   "metadata": {},
   "source": [
    "### Harmonic Minor Scale"
   ]
  },
  {
   "cell_type": "code",
   "execution_count": null,
   "metadata": {},
   "outputs": [],
   "source": [
    "scale_harmonic_minor = tuning.Scale(\"Harmonic Minor\", tuning_12edo, [0, 2, 3, 5, 7, 8, 11])\n",
    "\n",
    "plot = tuningplot.TuningPolarPlot(4, 4, 2, 7)\n",
    "# plot.plotRatios([(1, 1), (3, 2), (4, 3), (5, 3), (5, 4), (6, 5)])\n",
    "plot.plotTuning(tuning_12edo)\n",
    "plot.plotScale(scale_harmonic_minor, 0, 2, \"Harmonic Minor\", True)\n",
    "plot.plot()\n",
    "plot.plotTuning(tuning_12edo)\n",
    "plot.plotScale(scale_harmonic_minor, 1, 2, \"\", True)\n",
    "plot.plot()\n",
    "plot.plotTuning(tuning_12edo)\n",
    "plot.plotScale(scale_harmonic_minor, 4, 2, \"\", True)\n",
    "plot.plot()\n",
    "plot.plotTuning(tuning_12edo)\n",
    "plot.plotScale(scale_harmonic_minor, 5, 2, \"\", True)\n",
    "plot.plot()\n",
    "plot.plotTuning(tuning_12edo)\n",
    "plot.plotScale(scale_harmonic_minor, 7, 2, \"\", True)\n",
    "plot.plot()\n",
    "plot.plotTuning(tuning_12edo)\n",
    "plot.plotScale(scale_harmonic_minor, 9, 2, \"\", True)\n",
    "plot.plot()\n",
    "plot.plotTuning(tuning_12edo)\n",
    "plot.plotScale(scale_harmonic_minor, 10, 2, \"\", True)\n",
    "plot.plot()"
   ]
  }
 ],
 "metadata": {
  "interpreter": {
   "hash": "aee8b7b246df8f9039afb4144a1f6fd8d2ca17a180786b69acc140d282b71a49"
  },
  "kernelspec": {
   "display_name": "Python 3.9.7 64-bit",
   "language": "python",
   "name": "python3"
  },
  "language_info": {
   "codemirror_mode": {
    "name": "ipython",
    "version": 3
   },
   "file_extension": ".py",
   "mimetype": "text/x-python",
   "name": "python",
   "nbconvert_exporter": "python",
   "pygments_lexer": "ipython3",
   "version": "3.9.7"
  },
  "orig_nbformat": 4
 },
 "nbformat": 4,
 "nbformat_minor": 2
}
