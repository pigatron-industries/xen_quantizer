{
 "cells": [
  {
   "cell_type": "markdown",
   "metadata": {},
   "source": [
    "# Harmonics"
   ]
  },
  {
   "cell_type": "markdown",
   "metadata": {},
   "source": [
    "### Harmonic Series\n",
    "\n",
    "When a musical instrument such as a string vibrates, it tends to resonate at frequencies integer multiple of the fundamental frequencies. This is becasue the wave can fir into the length of the string a whole number of times assuming the end of the string are fixed."
   ]
  },
  {
   "cell_type": "code",
   "execution_count": null,
   "metadata": {},
   "outputs": [],
   "source": [
    "import lib.harmonicsplot as harmonicsplot\n",
    "import math\n",
    "plot = harmonicsplot.HarmonicsPlot(1)\n",
    "\n",
    "def sine(harmonic, label = '', amp = 1):\n",
    "    plot.addHarmonic(harmonic, amp)\n",
    "    plot.plot(label)\n",
    "\n",
    "sine(1, 'Harmonic 1')\n",
    "sine(2, 'Harmonic 2', 1/2)\n",
    "sine(3, 'Harmonic 3', 1/3)\n",
    "sine(4, 'Harmonic 4', 1/4)\n",
    "sine(5, 'Harmonic 5', 1/5)\n",
    "sine(6, 'Harmonic 6', 1/6)"
   ]
  },
  {
   "cell_type": "markdown",
   "metadata": {},
   "source": [
    "### Sawtooth\n",
    "\n",
    "A sawtooth wave consists of all harmonics"
   ]
  },
  {
   "cell_type": "code",
   "execution_count": null,
   "metadata": {},
   "outputs": [],
   "source": [
    "plot = harmonicsplot.HarmonicsPlot()\n",
    "\n",
    "def sawtooth(harmonics, label='', amp=1, shift=0):\n",
    "    for h in range(1, harmonics+1, 1):\n",
    "        plot.addHarmonic(h, amp/h, 0, shift)\n",
    "    plot.plot(label)\n",
    "\n",
    "sawtooth(1, 'Sine')\n",
    "sawtooth(2)\n",
    "sawtooth(3)\n",
    "sawtooth(4)\n",
    "sawtooth(6)\n",
    "sawtooth(10)\n",
    "sawtooth(30, 'Sawtooth')\n"
   ]
  },
  {
   "cell_type": "markdown",
   "metadata": {},
   "source": [
    "### Square\n",
    "\n",
    "A square wave contains only odd harmonics."
   ]
  },
  {
   "cell_type": "code",
   "execution_count": null,
   "metadata": {},
   "outputs": [],
   "source": [
    "plot = harmonicsplot.HarmonicsPlot()\n",
    "\n",
    "def square(harmonics, label=''):\n",
    "    for h in range(1, harmonics+1, 2):\n",
    "        plot.addHarmonic(h, 1/h)\n",
    "    plot.plot(label)\n",
    "\n",
    "square(1, 'Sine')\n",
    "square(3)\n",
    "square(5)\n",
    "square(10)\n",
    "square(30, 'Square')\n",
    "\n"
   ]
  },
  {
   "cell_type": "markdown",
   "metadata": {},
   "source": [
    "### Triangle\n",
    "\n",
    "A triangle wave also contains only odd harmonics, but amplitude rolls off faster than the square and every other harmonic has a negative amplitude to give it the triangle shape."
   ]
  },
  {
   "cell_type": "code",
   "execution_count": null,
   "metadata": {},
   "outputs": [],
   "source": [
    "plot = harmonicsplot.HarmonicsPlot()\n",
    "\n",
    "def triangle(harmonics, label=''):\n",
    "    for h in range(1, harmonics+1, 4):\n",
    "        plot.addHarmonic(h, 1/(h*h))\n",
    "    for h in range(3, harmonics+1, 4):\n",
    "        plot.addHarmonic(h, 1/(-h*h))\n",
    "    plot.plot(label)\n",
    "\n",
    "\n",
    "triangle(1, 'Sine')\n",
    "triangle(3)\n",
    "triangle(30, 'Triangle')"
   ]
  },
  {
   "cell_type": "markdown",
   "metadata": {},
   "source": [
    "### Pulse\n",
    "\n",
    "A pulse waveform can be created the same way as a sawtooth wave, but with a second phase shifted sawtooth subtracted from it:"
   ]
  },
  {
   "cell_type": "code",
   "execution_count": null,
   "metadata": {},
   "outputs": [],
   "source": [
    "plot = harmonicsplot.HarmonicsPlot()\n",
    "\n",
    "sawtooth(30, 'Sawtooth')\n",
    "sawtooth(30, 'Shifted Sawtooth', -1, 0.2)\n",
    "\n",
    "for h in range(1, 30, 1):\n",
    "    plot.addHarmonic(h, 1/h, 0)\n",
    "for h in range(1, 30, 1):\n",
    "    plot.addHarmonic(h, -1/h, 0, 0.2)\n",
    "\n",
    "plot.plot('Pulse')"
   ]
  },
  {
   "cell_type": "code",
   "execution_count": null,
   "metadata": {},
   "outputs": [],
   "source": [
    "plot = harmonicsplot.HarmonicsPlot()\n",
    "\n",
    "plot.addHarmonic(1, 1.0)\n",
    "plot.addHarmonic(2, -0.9, 0.25)\n",
    "plot.addHarmonic(3, -0.8)\n",
    "plot.addHarmonic(4, 0.7, 0.25)\n",
    "plot.addHarmonic(5, 0.6)\n",
    "plot.addHarmonic(6, -0.5, 0.25)\n",
    "plot.addHarmonic(7, -0.4)\n",
    "plot.addHarmonic(8, 0.3, 0.25)\n",
    "plot.addHarmonic(9, 0.2)\n",
    "plot.addHarmonic(10, -0.1, 0.25)\n",
    "\n",
    "plot.plot()"
   ]
  }
 ],
 "metadata": {
  "interpreter": {
   "hash": "aee8b7b246df8f9039afb4144a1f6fd8d2ca17a180786b69acc140d282b71a49"
  },
  "kernelspec": {
   "display_name": "Python 3.9.7 64-bit",
   "language": "python",
   "name": "python3"
  },
  "language_info": {
   "codemirror_mode": {
    "name": "ipython",
    "version": 3
   },
   "file_extension": ".py",
   "mimetype": "text/x-python",
   "name": "python",
   "nbconvert_exporter": "python",
   "pygments_lexer": "ipython3",
   "version": "3.9.7"
  },
  "orig_nbformat": 4
 },
 "nbformat": 4,
 "nbformat_minor": 2
}
