{
 "cells": [
  {
   "cell_type": "markdown",
   "metadata": {},
   "source": [
    "# Chords"
   ]
  },
  {
   "cell_type": "markdown",
   "metadata": {},
   "source": [
    "# 12 Just Intonation\n"
   ]
  },
  {
   "cell_type": "code",
   "execution_count": null,
   "metadata": {},
   "outputs": [],
   "source": [
    "import lib.tuning as tuning\n",
    "import lib.tuningplot as tuningplot\n",
    "%matplotlib inline\n",
    "\n",
    "# ['0 C','1 C#','2 D','3 D#','4 E','5 F','6 F#','7 G','8 G#','9 A','10 A#','11 B']\n",
    "tuning_12just = tuning.Tuning(\"12 Just\", [])\n",
    "tuning_12just.addIntervalRatio(1, '0 C')\n",
    "tuning_12just.addIntervalRatio(8/7, '2 D')\n",
    "tuning_12just.addIntervalRatio(6/5, '3 D#')\n",
    "tuning_12just.addIntervalRatio(5/4, '4 E')\n",
    "tuning_12just.addIntervalRatio(4/3, '5 F')\n",
    "tuning_12just.addIntervalRatio(7/5, '6 F#')\n",
    "tuning_12just.addIntervalRatio(3/2, '7 G')\n",
    "tuning_12just.addIntervalRatio(8/5, '8 G#')\n",
    "tuning_12just.addIntervalRatio(5/3, '9 A')\n",
    "tuning_12just.addIntervalRatio(7/4, '10 A#')\n",
    "\n",
    "\n",
    "# scale_major = tuning.Scale(\"Major\", tuning_12just, [0, 2, 4, 5, 7, 9, 11])\n",
    "\n",
    "plot = tuningplot.TuningPolarPlot(4, 4, 2, 8)\n",
    "plot.plotTuning(tuning_12just)\n",
    "plot.plotRatios([(1, 1), (3, 2), (4, 3), (5, 3), (5, 4), (6, 5), (7, 4), (7, 5), (8,5), (8,7)])\n",
    "plot.plot()\n"
   ]
  }
 ],
 "metadata": {
  "interpreter": {
   "hash": "aee8b7b246df8f9039afb4144a1f6fd8d2ca17a180786b69acc140d282b71a49"
  },
  "kernelspec": {
   "display_name": "Python 3.9.7 64-bit",
   "language": "python",
   "name": "python3"
  },
  "language_info": {
   "codemirror_mode": {
    "name": "ipython",
    "version": 3
   },
   "file_extension": ".py",
   "mimetype": "text/x-python",
   "name": "python",
   "nbconvert_exporter": "python",
   "pygments_lexer": "ipython3",
   "version": "3.9.7"
  },
  "orig_nbformat": 4
 },
 "nbformat": 4,
 "nbformat_minor": 2
}
