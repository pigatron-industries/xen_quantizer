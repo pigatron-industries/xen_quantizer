{
 "cells": [
  {
   "cell_type": "markdown",
   "metadata": {},
   "source": [
    "# 19 Equally Divided Octave"
   ]
  },
  {
   "cell_type": "markdown",
   "metadata": {},
   "source": [
    "### Dissonance Curve Comparison\n",
    "\n",
    "Comparison of 19 EDO with 12 EDO against the dissonance curve for harmonic sounds."
   ]
  },
  {
   "cell_type": "code",
   "execution_count": null,
   "metadata": {},
   "outputs": [],
   "source": [
    "import lib.tuning as tuning\n",
    "import lib.tuningplot as tuningplot\n",
    "%matplotlib inline\n",
    "\n",
    "tuning_12edo = tuning.createEqualDivisionTuning(\"12edo\", 12, 1, ['0 C','1 C#','2 D','3 D#','4 E','5 F','6 F#','7 G','8 G#','9 A','10 A#','11 B'])\n",
    "tuning_19edo = tuning.createEqualDivisionTuning(\"19edo\", 19, 1, ['0 C', '1 C#', '2 Cx', '3 D', '4 D#', '5 E', '6 E#', '7 Ex', '8 F', '9 F#', '10 Fx', '11 G', '12 G#', '13 Gx', '14 A', '15 A#', '16 B', '17 B#', '18 Bx'])\n",
    "\n",
    "plot = tuningplot.TuningPlot('h', 14)\n",
    "plot.plotRatios([(1, 1), (2, 1), (3, 2), (4, 3), (5, 3), (5, 4), (6, 5), (7, 4), (7, 5), (8,5), (9, 8), (9, 5)])\n",
    "plot.plotDissonance([1, 2, 3, 4, 5, 6, 7, 8, 9], 5.5)\n",
    "plot.plotTuning(tuning_12edo)ß\n",
    "plot.plotTuning(tuning_19edo)\n",
    "\n",
    "plot.plot()"
   ]
  },
  {
   "cell_type": "markdown",
   "metadata": {},
   "source": [
    "## Heptatonic\n",
    "\n",
    "The standard 12 EDO heptatonic scale can be approximated as follows. This is the standard major scale with standard chords.\n",
    "\n",
    "3-3-2-3-3-3-2"
   ]
  },
  {
   "cell_type": "code",
   "execution_count": null,
   "metadata": {},
   "outputs": [],
   "source": [
    "tuning_19edo = tuning.createEqualDivisionTuning(\"19edo\", 19, 1, ['0 D', '1 D#', '2 Dx', '3 E', '4 E#', '5 F', '6 F#', '7 Fx', '8 G', '9 G#', '10 Gx', '11 A', '12 A#', '13 Ax', '14 B', '15 B#', '16 C', '17 C#', '18 Cx'])\n",
    "# scale_major = tuning.Scale(\"Major\", tuning_12edo, [0, 2, 4, 5, 7, 9, 11])\n",
    "scale_major = tuning.Scale(\"Major\", tuning_19edo, [0, 3, 6, 8, 11, 14, 17])\n",
    "chord_triad = tuning.Chord(scale_major, [0, 2, 4])\n",
    "\n",
    "plot = tuningplot.TuningPolarPlot(4, 4, 2, 8)\n",
    "plot.plotRatios([(1, 1), (3, 2), (4, 3), (5, 3), (5, 4), (6, 5), (7, 4), (7, 5), (8,5), (9, 8), (9, 5)])\n",
    "plot.plotTuning(tuning_19edo)\n",
    "plot.plotScale(scale_major, 0, 2, \"Major\", True)\n",
    "plot.plot()\n",
    "\n",
    "plot.plotTuning(tuning_19edo)\n",
    "plot.plotScale(scale_major, 0, 2, \"\", True)\n",
    "plot.plotChord(chord_triad, 0, \"I: D Major\")\n",
    "plot.plotRatios([(1, 1), (3, 2), (5, 4)])\n",
    "plot.plot()\n",
    "\n",
    "plot.plotTuning(tuning_19edo)\n",
    "plot.plotScale(scale_major, 0, 2, \"\", True)\n",
    "plot.plotChord(chord_triad, 1, \"ii: E Minor\")\n",
    "plot.plotRatios([(1, 1), (3, 2), (6, 5)], 3/19)\n",
    "plot.plot()\n",
    "\n",
    "plot.plotTuning(tuning_19edo)\n",
    "plot.plotScale(scale_major, 0, 2, \"\", True)\n",
    "plot.plotChord(chord_triad, 2, \"iii: F# Minor\")\n",
    "plot.plotRatios([(1, 1), (3, 2), (6, 5)], 6/19)\n",
    "plot.plot()\n",
    "\n",
    "plot.plotTuning(tuning_19edo)\n",
    "plot.plotScale(scale_major, 0, 2, \"\", True) \n",
    "plot.plotChord(chord_triad, 3, \"IV: G Major\")\n",
    "plot.plotRatios([(1, 1), (3, 2), (5, 4)], 8/19)\n",
    "plot.plot()\n",
    "\n",
    "plot.plotTuning(tuning_19edo)\n",
    "plot.plotScale(scale_major, 0, 2, \"\", True)\n",
    "plot.plotChord(chord_triad, 4, \"V: A Major\")\n",
    "plot.plotRatios([(1, 1), (3, 2), (5, 4)], 11/19)\n",
    "plot.plot()\n",
    "\n",
    "plot.plotTuning(tuning_19edo)\n",
    "plot.plotScale(scale_major, 0, 2, \"\", True)\n",
    "plot.plotChord(chord_triad, 5, \"vi: B Minor\")\n",
    "plot.plotRatios([(1, 1), (3, 2), (6, 5)], 14/19)\n",
    "plot.plot()\n",
    "\n",
    "plot.plotTuning(tuning_19edo)\n",
    "plot.plotScale(scale_major, 0, 2, \"\", True)\n",
    "plot.plotChord(chord_triad, 6, \"vii: C# Diminished\")\n",
    "plot.plotRatios([(1, 1), (7, 5), (6, 5)], 17/19)\n",
    "plot.plot()\n",
    "\n"
   ]
  }
 ],
 "metadata": {
  "kernelspec": {
   "display_name": "sd",
   "language": "python",
   "name": "python3"
  },
  "language_info": {
   "codemirror_mode": {
    "name": "ipython",
    "version": 3
   },
   "file_extension": ".py",
   "mimetype": "text/x-python",
   "name": "python",
   "nbconvert_exporter": "python",
   "pygments_lexer": "ipython3",
   "version": "3.11.3"
  }
 },
 "nbformat": 4,
 "nbformat_minor": 2
}
