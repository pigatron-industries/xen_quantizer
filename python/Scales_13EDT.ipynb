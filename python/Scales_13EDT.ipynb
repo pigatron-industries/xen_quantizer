{
 "cells": [
  {
   "cell_type": "markdown",
   "metadata": {},
   "source": [
    "# 13 Equally Divided Tritave"
   ]
  },
  {
   "cell_type": "markdown",
   "metadata": {},
   "source": [
    "This is an equally tempered version of the Bohlen-Pierce scale.\n",
    "\n",
    "### Dissonance Curve Comparison\n"
   ]
  },
  {
   "cell_type": "code",
   "execution_count": null,
   "metadata": {},
   "outputs": [],
   "source": [
    "import lib.tuning as tuning\n",
    "import lib.tuningplot as tuningplot\n",
    "import math\n",
    "%matplotlib inline\n",
    "\n",
    "tuning_12edo = tuning.createEqualDivisionTuning(\"12edo\", 12, 1, ['0 C','1 C#','2 D','3 D#','4 E','5 F','6 F#','7 G','8 G#','9 A','10 A#','11 B'])\n",
    "tuning_13edt = tuning.createEqualDivisionTuning(\"13edt\", 13, math.log(3, 2))\n",
    "\n",
    "plot = tuningplot.TuningPlot('h', 14, 1.6)\n",
    "plot.plotRatios([(1, 1), (2, 1), (3, 1), (5, 3), (7, 5), (7, 3), (9,5), (9,7), (11,7), (11,9), (11,5), (13,7), (13,9), (13,11), (13,5)])\n",
    "plot.plotDissonance([1, 3, 5, 7, 9, 11, 13], 3.3)\n",
    "plot.plotTuning(tuning_12edo, 2)\n",
    "plot.plotTuning(tuning_13edt)\n",
    "\n",
    "plot.plot()"
   ]
  },
  {
   "cell_type": "markdown",
   "metadata": {},
   "source": [
    "## Scales\n",
    "\n",
    "Generator 9/7\n",
    "\n",
    "Pentatonic\n",
    "0 3 6 9 12\n",
    "3-3-3-3-1\n",
    "\n",
    "Nonatonic\n",
    "0 2 3 5 6 8 9 11 12\n",
    "2-1-2-1-2-1-2-1-1\n",
    "\n",
    "\n",
    "Generator 7/5\n",
    "\n",
    "Heptatonic\n",
    "0 3 4 7 8 11 12\n",
    "3-1-3-1-3-1-1\n",
    "\n",
    "0 2 3 4 6 7 8 10 11 12\n",
    "2-1-1-2-1-1-2-1-1-1\n",
    "\n"
   ]
  },
  {
   "cell_type": "code",
   "execution_count": null,
   "metadata": {},
   "outputs": [],
   "source": [
    "tuning_13edt = tuning.createEqualDivisionTuning(\"13edt\", 13, math.log(3, 2))\n",
    "scale = tuning.Scale(\"Major\", tuning_13edt, [0, 3, 6, 8, 11, 14, 17])\n",
    "chord = tuning.Chord(scale, [0, 2, 4])\n",
    "\n",
    "plot = tuningplot.TuningPolarPlot(4, 4, 2, 8)\n",
    "plot.plotTuning(tuning_13edt, 1)\n",
    "plot.plotRatios([(1, 1), (2, 1), (5, 3), (7, 5), (7, 3), (9,5), (9,7), (11,7), (11,5), (13,11), (13,5)])\n",
    "\n",
    "# plot.plotScale(scale_major, 0, 2, \"Major\", True)\n",
    "plot.plot()\n",
    "\n",
    "# plot.plotTuning(tuning_19edo)\n",
    "# plot.plotScale(scale_major, 0, 2, \"\", True)\n",
    "# plot.plotChord(chord_triad, 0, \"I: D Major\")\n",
    "# plot.plotRatios([(1, 1), (3, 2), (5, 4)])\n",
    "# plot.plot()\n",
    "\n",
    "# plot.plotTuning(tuning_19edo)\n",
    "# plot.plotScale(scale_major, 0, 2, \"\", True)\n",
    "# plot.plotChord(chord_triad, 1, \"ii: E Minor\")\n",
    "# plot.plotRatios([(1, 1), (3, 2), (6, 5)], 3/19)\n",
    "# plot.plot()\n",
    "\n",
    "# plot.plotTuning(tuning_19edo)\n",
    "# plot.plotScale(scale_major, 0, 2, \"\", True)\n",
    "# plot.plotChord(chord_triad, 2, \"iii: F# Minor\")\n",
    "# plot.plotRatios([(1, 1), (3, 2), (6, 5)], 6/19)\n",
    "# plot.plot()\n",
    "\n",
    "# plot.plotTuning(tuning_19edo)\n",
    "# plot.plotScale(scale_major, 0, 2, \"\", True) \n",
    "# plot.plotChord(chord_triad, 3, \"IV: G Major\")\n",
    "# plot.plotRatios([(1, 1), (3, 2), (5, 4)], 8/19)\n",
    "# plot.plot()\n",
    "\n",
    "# plot.plotTuning(tuning_19edo)\n",
    "# plot.plotScale(scale_major, 0, 2, \"\", True)\n",
    "# plot.plotChord(chord_triad, 4, \"V: A Major\")\n",
    "# plot.plotRatios([(1, 1), (3, 2), (5, 4)], 11/19)\n",
    "# plot.plot()\n",
    "\n",
    "# plot.plotTuning(tuning_19edo)\n",
    "# plot.plotScale(scale_major, 0, 2, \"\", True)\n",
    "# plot.plotChord(chord_triad, 5, \"vi: B Minor\")\n",
    "# plot.plotRatios([(1, 1), (3, 2), (6, 5)], 14/19)\n",
    "# plot.plot()\n",
    "\n",
    "# plot.plotTuning(tuning_19edo)\n",
    "# plot.plotScale(scale_major, 0, 2, \"\", True)\n",
    "# plot.plotChord(chord_triad, 6, \"vii: C# Diminished\")\n",
    "# plot.plotRatios([(1, 1), (7, 5), (6, 5)], 17/19)\n",
    "# plot.plot()\n",
    "\n"
   ]
  }
 ],
 "metadata": {
  "kernelspec": {
   "display_name": "sd",
   "language": "python",
   "name": "python3"
  },
  "language_info": {
   "codemirror_mode": {
    "name": "ipython",
    "version": 3
   },
   "file_extension": ".py",
   "mimetype": "text/x-python",
   "name": "python",
   "nbconvert_exporter": "python",
   "pygments_lexer": "ipython3",
   "version": "3.11.3"
  }
 },
 "nbformat": 4,
 "nbformat_minor": 2
}
